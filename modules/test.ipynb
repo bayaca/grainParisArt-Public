{
 "cells": [
  {
   "cell_type": "code",
   "execution_count": 17,
   "metadata": {},
   "outputs": [],
   "source": [
    "from bs4 import BeautifulSoup\n",
    "import requests"
   ]
  },
  {
   "cell_type": "code",
   "execution_count": 18,
   "metadata": {},
   "outputs": [],
   "source": [
    "url = \"https://www.allocine.fr/seance/salle_gen_csalle=P0036.html\"\n",
    "response = requests.get(url)\n",
    "response_text = response.text\n",
    "soupResponse = BeautifulSoup(response_text, 'html.parser')"
   ]
  },
  {
   "cell_type": "code",
   "execution_count": 20,
   "metadata": {},
   "outputs": [
    {
     "name": "stdout",
     "output_type": "stream",
     "text": [
      "Diamant brut ['10:55', '13:10', '15:25', '17:40', '19:55', '22:10']\n",
      "Prodigieuses ['11:10', '14:00', '16:20', '19:45', '22:05']\n",
      "Le Panache ['11:15', '13:25', '15:30', '17:35', '19:40', '22:10']\n",
      "Gladiator II ['10:45', '13:45', '15:00', '16:50', '18:05', '20:00', '21:10', '11:00', '14:05', '15:15', '17:10', '18:20', '20:15', '21:25']\n",
      "The Substance ['11:00', '14:00', '17:00', '18:30', '20:00', '21:30']\n",
      "Juré n°2 ['11:00', '16:00', '21:00', '11:00', '14:00', '16:25', '19:35', '22:00']\n",
      "La Vallée des fous ['11:00', '13:50', '20:30']\n",
      "Trois amies ['11:00', '13:30', '18:30']\n",
      "Croquette le chat merveilleux ['11:00', '13:45', '15:45']\n",
      "L'Amour ouf ['11:05', '13:30', '16:45', '17:55', '20:00', '21:10']\n",
      "Le Robot Sauvage ['11:05', '13:25', '15:35', '19:55', '17:45']\n",
      "Louise Violet ['11:05', '16:05']\n",
      "Flow, le chat qui n’avait plus peur de l’eau ['11:05', '13:55', '15:55', '18:30']\n",
      "Venom: The Last Dance ['11:10', '14:00', '16:20', '19:45', '22:05']\n",
      "Monsieur Aznavour ['11:10', '14:10', '17:10', '20:10']\n",
      "En tongs au pied de l'Himalaya ['11:10', '14:00', '16:25']\n",
      "Anora ['17:40', '20:30']\n",
      "Smile 2 ['21:45']\n"
     ]
    }
   ],
   "source": [
    "films_list_container = soupResponse.find('div', class_=\"showtimes-list-holder\")\n",
    "\n",
    "films_list = films_list_container.find_all('div', class_=\"card entity-card entity-card-list movie-card-theater cf hred\")\n",
    "\n",
    "for film in films_list:\n",
    "    titre = film.find(\"div\", class_=\"meta\").find('h2', class_=\"meta-title\").find(\"a\").get_text()\n",
    "    realisateur_section = film.find(\"div\", class_=\"meta-body-item meta-body-direction\")\n",
    "    \n",
    "    realisateur_section = film.find(\"div\", class_=\"meta-body-item meta-body-direction\")\n",
    "    realisateur = realisateur_section.find('span', class_=\"dark-grey-link\").get_text()\n",
    "\n",
    "    horaire_sections = film.find_all(\"div\", class_=\"showtimes-hour-block\")\n",
    "    horaires = [horaire_section.find('span', class_=\"showtimes-hour-item-value\").get_text() for horaire_section in horaire_sections if horaire_section.find('span', class_=\"showtimes-hour-item-value\")] or [\"Horaire non trouvé\"]\n",
    "\n",
    "    genre_container = film.find(\"div\", class_=\"meta-body-item meta-body-info\")\n",
    "    genres = [span.get_text().strip() for span in genre_container.find_all(\"span\") if 'class' in span.attrs and not span.attrs['class'][0].startswith('spacer') and 'nationality' not in span.attrs['class']] if genre_container else [\"Genre non trouvé\"]\n",
    "                \n",
    "    \n",
    "    print(titre, horaires)"
   ]
  }
 ],
 "metadata": {
  "kernelspec": {
   "display_name": "Movies",
   "language": "python",
   "name": "python3"
  },
  "language_info": {
   "codemirror_mode": {
    "name": "ipython",
    "version": 3
   },
   "file_extension": ".py",
   "mimetype": "text/x-python",
   "name": "python",
   "nbconvert_exporter": "python",
   "pygments_lexer": "ipython3",
   "version": "3.13.0"
  }
 },
 "nbformat": 4,
 "nbformat_minor": 2
}
